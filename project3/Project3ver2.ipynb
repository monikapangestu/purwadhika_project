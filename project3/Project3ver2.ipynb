{
 "cells": [
  {
   "cell_type": "markdown",
   "id": "1ae8cb51-a4ea-46c8-bb36-6cb1ca5e2613",
   "metadata": {},
   "source": [
    "# Data Analytics: How To Enhance Effectiveness of Bank Marketing Campaign\n",
    "### Created By : Monika Pangestu"
   ]
  },
  {
   "cell_type": "markdown",
   "id": "8371695d-37d8-4f7a-86c4-285e3a96bdd5",
   "metadata": {},
   "source": [
    "## Business Problem Understanding"
   ]
  },
  {
   "cell_type": "markdown",
   "id": "3afb497d-8194-48d9-9dd1-1dca547a4c67",
   "metadata": {
    "tags": []
   },
   "source": [
    "#### Prolog/Context\n",
    "\n",
    "Semakin hari teknologi mulai memberikan dampak besar pada setiap aspek kehidupan manusia. Termasuk di dalamnya adalah aspek finansial. Saat dulu, untuk dapat mempromosikan produknya, bank-bank yang ada cenderung menggunakan campaign tradisional seperti telemarketing. Namun, tak dapat dipungkiri, saat ini pun campaign tradional tersebut masih kita rasakan di zaman yang serba maju ini. Tidak sedikit bank yang masih menelpon customernya untuk menawarkan produk-produk mereka. Dan tidak jarang juga orang-orang menolak produk mereka saat proses penawaran.\n",
    "\n",
    "Dalam setiap proses penawaran pastinya juga ada biaya yang harus dikeluarkan oleh bank tersebut untuk menarik customernya. Namun, seperti yang sudah disebutkan sebelumnya tidak dapat disangkal bahwa pasti akan ada proses penawaran yang gagal dan ini membuat biaya yang dikeluarkan oleh bank (untuk campaign) terbuang sia-sia.\n",
    "\n",
    "Dewasa ini, campaign yang dapat dilakukan oleh bank tidak hanya sekedar tele-marketing saja. Sebagai contohnya , sebuah bank dapat melakukan campaign gamification, membuat social media , AI Chatbots, dll. yang lebih menarik. Di sisi lain bank juga menggunakan metode-metode tersebut untuk meningkatkan customer engagementnya. Namun, campaign menarik saja belum cukup. Campaign harus dapat ditujukan kepada customer yang tepat. Dengan begitu campaign dapat berjalan dengan efektif dan efisien. Kemungkinan customer tertarik pada produk yang ditawarkan juga menjadi lebih besar.\n",
    "\n",
    "Bank retail memiliki concern untuk mengetahui customer mana yang benar-benar tertarik untuk menggunakan produk long term deposit. Hal ini dilakukan untuk memaksimalkan campaign yang mereka lakukan. Dengan begitu campaign dapat dilakukan secara efektif dan efisien. Dengan mengetahui customer mana yang memiliki peluang terbesar untuk menggunakan produk deposit, bank dapat melakukan campaign yang lebih tepat sasaran pada customer yang memang tertarik."
   ]
  },
  {
   "cell_type": "markdown",
   "id": "61551f5b-a805-4800-ad61-ae8212c25c87",
   "metadata": {},
   "source": [
    "#### Problem\n",
    "\n",
    "Campaign yang dilakukan oleh bank belum dimanfaatkan semaksimal & se-efektif mungkin untuk meningkatkan jumlah customer yang melakukan deposit. Bank belum menargetkan campaign kepada customer yang tepat (yang memang melakukan deposit). \n",
    "Pola bank yang melakukan campaign kepada pada semua customer tanpa melakukan penyaringan terlebih dahulu, cenderung membuat semua sumber daya (biaya & sdm) dan waktu yang tersedia terbuang percuma. \n",
    "\n",
    "Dalam artian, jika bank melakukan campaign juga terhadap customer yang kemungkinannya kecil melakukan deposit, sumber daya akan terbuang sia-sia, karena pada akhirnya customer tersebut tidak melakukan deposit. Dimana sebenarnya, sumber daya yang hilang tersebut bisa digunakan untuk menyasar customer lain yang peluangnya lebih besar untuk melakukan deposit"
   ]
  },
  {
   "cell_type": "markdown",
   "id": "e5b0a25a-0015-4628-be60-34050e161388",
   "metadata": {},
   "source": [
    "#### Aim\n",
    "\n",
    "1. Bank dapat memprediksi customer yang mungkin melakukan deposit, sehingga bank dapat memaksimalkan campaign yang dilakukan secara tepat sasaran.\n",
    "2. Bank dapat mengetahui faktor-faktor apa yang dapat mempengaruhi keputusan customer untuk melakukan deposit atau tidak, sehingga bank dapat membuat campaign yang lebih efektif."
   ]
  },
  {
   "cell_type": "markdown",
   "id": "6d3b9b50-9988-48f2-9378-5bee911258f4",
   "metadata": {},
   "source": [
    "## Data Understanding"
   ]
  },
  {
   "cell_type": "markdown",
   "id": "8c1d0d75-f56b-4a8c-ad35-154a441c9cd1",
   "metadata": {
    "tags": []
   },
   "source": [
    "#### Data Source\n",
    "\n",
    "**Data Info - Data_bank_marketing_campaign.csv**\n",
    "\n",
    "Data diambil dari :\n",
    "https://drive.google.com/file/d/1PQTTWgITANg5Av-1Ot28KCIHVyFaCmUK/view?usp=sharing\n",
    "<br>yang merupakan adaptasi dari Kaggle : Bank Marketing Dataset (https://www.kaggle.com/datasets/janiobachmann/bank-marketing-dataset?datasetId=4471&sortBy=voteCount), dengan sedikit penyesuaian pada komponen data."
   ]
  },
  {
   "cell_type": "markdown",
   "id": "619648dc-dcdb-4426-a504-85cfdf1a1251",
   "metadata": {},
   "source": [
    "**Native Data Info - Bank Marketing Dataset**\n",
    "<br>Author : S.Moro, P.Cortez & P.Rita\n",
    "<br>Year : 2014, June\n",
    "<br>Source : [Moro et al., 2014] S. Moro, P. Cortez and P. Rita. A Data-Driven Approach to Predict the Success of Bank Telemarketing. Decision Support Systems, Elsevier, 62:22-31, June 2014"
   ]
  },
  {
   "cell_type": "markdown",
   "id": "03bb5ec9-cd68-47d0-9d9e-2222ab97acdd",
   "metadata": {},
   "source": [
    "**Data Attribute Information**\n",
    "<br> Data data_bank_marketing_campaign.csv terdiri atas beberapa atribut, dan atribut-atribut ini dapat digunakan dalam proses analisis lebih lanjut terhadap behaviour dari customer dalam melakukan deposit. Detail dari atributnya adalah sebagai berikut :\n",
    "\n",
    "| Attribute | Data Numeric/Categorical | Description |\n",
    "| --- | --- | --- |\n",
    "| age | Numeric | Umur dari customer |\n",
    "| job | Categorical | Pekerjaan dari customer |\n",
    "| balance | Numeric | Jumlah tabungan yang dimiliki individual |\n",
    "| housing | Categorical | Apakah customer memiliki cicilan rumah ? <YES/NO> |\n",
    "| loan | Categorical | Apakah customer memiliki cicilan rumah ? <YES/NO> |\n",
    "| contact | Categorical | Tipe komunikasi yang dilakukan |\n",
    "| month | Categorical | Bulan terakhir kontak dalam tahun terkait |\n",
    "| campaign | Numeric | Jumlah kontak yang dilakukan selama campaign terhadap customer terkait |\n",
    "| pdays | Numeric | Jumlah hari yang telah berlalu setelah klien terakhir dihubungi dari campaign sebelumnya <br><-1, berarti client belum pernah dikontak sebelumnya> |\n",
    "| poutcome | Categorical | Hasil dari marketing campaign sebelumnya |\n",
    "| deposit | Categorical | Apakah customer melakukan deposit ? <YES/NO> |"
   ]
  },
  {
   "cell_type": "markdown",
   "id": "adf43700-4473-4716-bab5-ff44bbc65567",
   "metadata": {
    "tags": []
   },
   "source": [
    "## Import Library"
   ]
  },
  {
   "cell_type": "code",
   "execution_count": 105,
   "id": "8dc46931-3bec-4c34-9be2-0c7666c096e2",
   "metadata": {},
   "outputs": [],
   "source": [
    "import matplotlib.pyplot as plt\n",
    "import statsmodels.api as sm\n",
    "import seaborn as sns\n",
    "import pandas as pd\n",
    "pd.set_option('display.max_colwidth', None)\n",
    "import numpy as np\n",
    "\n",
    "from sklearn.preprocessing import OneHotEncoder,  LabelEncoder\n",
    "import category_encoders as ce\n",
    "from sklearn.compose import ColumnTransformer\n",
    "\n",
    "from sklearn.linear_model import LogisticRegression\n",
    "from sklearn.tree import DecisionTreeClassifier\n",
    "from sklearn.metrics import classification_report, confusion_matrix\n",
    "from sklearn.neighbors import KNeighborsClassifier\n",
    "from sklearn.ensemble import RandomForestClassifier\n",
    "import xgboost as xgb\n",
    "import lightgbm as lgb\n",
    "from sklearn.metrics import f1_score, accuracy_score, recall_score, precision_score\n",
    "from sklearn.model_selection import StratifiedKFold,train_test_split,cross_val_score,GridSearchCV\n",
    "from imblearn.pipeline import Pipeline\n",
    "from sklearn.metrics import roc_curve, roc_auc_score\n",
    "from sklearn.model_selection import StratifiedShuffleSplit, StratifiedKFold\n",
    "from imblearn.over_sampling import RandomOverSampler\n",
    "from sklearn.pipeline import make_pipeline\n",
    "from sklearn.preprocessing import StandardScaler\n",
    "import pickle\n",
    "\n",
    "import warnings\n",
    "warnings.filterwarnings('ignore')"
   ]
  },
  {
   "cell_type": "markdown",
   "id": "4cd3abef-36de-478b-96d8-cc5bc405e1b0",
   "metadata": {},
   "source": [
    "## Read The Data"
   ]
  },
  {
   "cell_type": "code",
   "execution_count": 106,
   "id": "c1ef36d9-87f2-4ab5-92e9-f0d2b0a9be08",
   "metadata": {},
   "outputs": [
    {
     "data": {
      "text/html": [
       "<div>\n",
       "<style scoped>\n",
       "    .dataframe tbody tr th:only-of-type {\n",
       "        vertical-align: middle;\n",
       "    }\n",
       "\n",
       "    .dataframe tbody tr th {\n",
       "        vertical-align: top;\n",
       "    }\n",
       "\n",
       "    .dataframe thead th {\n",
       "        text-align: right;\n",
       "    }\n",
       "</style>\n",
       "<table border=\"1\" class=\"dataframe\">\n",
       "  <thead>\n",
       "    <tr style=\"text-align: right;\">\n",
       "      <th></th>\n",
       "      <th>age</th>\n",
       "      <th>job</th>\n",
       "      <th>balance</th>\n",
       "      <th>housing</th>\n",
       "      <th>loan</th>\n",
       "      <th>contact</th>\n",
       "      <th>month</th>\n",
       "      <th>campaign</th>\n",
       "      <th>pdays</th>\n",
       "      <th>poutcome</th>\n",
       "      <th>deposit</th>\n",
       "    </tr>\n",
       "  </thead>\n",
       "  <tbody>\n",
       "    <tr>\n",
       "      <th>0</th>\n",
       "      <td>55</td>\n",
       "      <td>admin.</td>\n",
       "      <td>1662</td>\n",
       "      <td>no</td>\n",
       "      <td>no</td>\n",
       "      <td>cellular</td>\n",
       "      <td>jun</td>\n",
       "      <td>2</td>\n",
       "      <td>-1</td>\n",
       "      <td>unknown</td>\n",
       "      <td>yes</td>\n",
       "    </tr>\n",
       "    <tr>\n",
       "      <th>1</th>\n",
       "      <td>39</td>\n",
       "      <td>self-employed</td>\n",
       "      <td>-3058</td>\n",
       "      <td>yes</td>\n",
       "      <td>yes</td>\n",
       "      <td>cellular</td>\n",
       "      <td>apr</td>\n",
       "      <td>3</td>\n",
       "      <td>-1</td>\n",
       "      <td>unknown</td>\n",
       "      <td>yes</td>\n",
       "    </tr>\n",
       "    <tr>\n",
       "      <th>2</th>\n",
       "      <td>51</td>\n",
       "      <td>admin.</td>\n",
       "      <td>3025</td>\n",
       "      <td>no</td>\n",
       "      <td>no</td>\n",
       "      <td>cellular</td>\n",
       "      <td>may</td>\n",
       "      <td>1</td>\n",
       "      <td>352</td>\n",
       "      <td>other</td>\n",
       "      <td>yes</td>\n",
       "    </tr>\n",
       "    <tr>\n",
       "      <th>3</th>\n",
       "      <td>38</td>\n",
       "      <td>services</td>\n",
       "      <td>-87</td>\n",
       "      <td>yes</td>\n",
       "      <td>no</td>\n",
       "      <td>cellular</td>\n",
       "      <td>may</td>\n",
       "      <td>1</td>\n",
       "      <td>-1</td>\n",
       "      <td>unknown</td>\n",
       "      <td>no</td>\n",
       "    </tr>\n",
       "    <tr>\n",
       "      <th>4</th>\n",
       "      <td>36</td>\n",
       "      <td>housemaid</td>\n",
       "      <td>205</td>\n",
       "      <td>yes</td>\n",
       "      <td>no</td>\n",
       "      <td>telephone</td>\n",
       "      <td>nov</td>\n",
       "      <td>4</td>\n",
       "      <td>-1</td>\n",
       "      <td>unknown</td>\n",
       "      <td>no</td>\n",
       "    </tr>\n",
       "    <tr>\n",
       "      <th>5</th>\n",
       "      <td>41</td>\n",
       "      <td>admin.</td>\n",
       "      <td>-76</td>\n",
       "      <td>yes</td>\n",
       "      <td>no</td>\n",
       "      <td>cellular</td>\n",
       "      <td>apr</td>\n",
       "      <td>1</td>\n",
       "      <td>-1</td>\n",
       "      <td>unknown</td>\n",
       "      <td>no</td>\n",
       "    </tr>\n",
       "    <tr>\n",
       "      <th>6</th>\n",
       "      <td>37</td>\n",
       "      <td>admin.</td>\n",
       "      <td>4803</td>\n",
       "      <td>no</td>\n",
       "      <td>no</td>\n",
       "      <td>cellular</td>\n",
       "      <td>jan</td>\n",
       "      <td>2</td>\n",
       "      <td>-1</td>\n",
       "      <td>unknown</td>\n",
       "      <td>yes</td>\n",
       "    </tr>\n",
       "    <tr>\n",
       "      <th>7</th>\n",
       "      <td>36</td>\n",
       "      <td>technician</td>\n",
       "      <td>911</td>\n",
       "      <td>yes</td>\n",
       "      <td>yes</td>\n",
       "      <td>cellular</td>\n",
       "      <td>may</td>\n",
       "      <td>2</td>\n",
       "      <td>21</td>\n",
       "      <td>failure</td>\n",
       "      <td>yes</td>\n",
       "    </tr>\n",
       "    <tr>\n",
       "      <th>8</th>\n",
       "      <td>35</td>\n",
       "      <td>management</td>\n",
       "      <td>805</td>\n",
       "      <td>no</td>\n",
       "      <td>no</td>\n",
       "      <td>cellular</td>\n",
       "      <td>sep</td>\n",
       "      <td>1</td>\n",
       "      <td>-1</td>\n",
       "      <td>unknown</td>\n",
       "      <td>no</td>\n",
       "    </tr>\n",
       "    <tr>\n",
       "      <th>9</th>\n",
       "      <td>57</td>\n",
       "      <td>housemaid</td>\n",
       "      <td>0</td>\n",
       "      <td>no</td>\n",
       "      <td>no</td>\n",
       "      <td>unknown</td>\n",
       "      <td>jun</td>\n",
       "      <td>1</td>\n",
       "      <td>-1</td>\n",
       "      <td>unknown</td>\n",
       "      <td>no</td>\n",
       "    </tr>\n",
       "  </tbody>\n",
       "</table>\n",
       "</div>"
      ],
      "text/plain": [
       "   age            job  balance housing loan    contact month  campaign  pdays  \\\n",
       "0   55         admin.     1662      no   no   cellular   jun         2     -1   \n",
       "1   39  self-employed    -3058     yes  yes   cellular   apr         3     -1   \n",
       "2   51         admin.     3025      no   no   cellular   may         1    352   \n",
       "3   38       services      -87     yes   no   cellular   may         1     -1   \n",
       "4   36      housemaid      205     yes   no  telephone   nov         4     -1   \n",
       "5   41         admin.      -76     yes   no   cellular   apr         1     -1   \n",
       "6   37         admin.     4803      no   no   cellular   jan         2     -1   \n",
       "7   36     technician      911     yes  yes   cellular   may         2     21   \n",
       "8   35     management      805      no   no   cellular   sep         1     -1   \n",
       "9   57      housemaid        0      no   no    unknown   jun         1     -1   \n",
       "\n",
       "  poutcome deposit  \n",
       "0  unknown     yes  \n",
       "1  unknown     yes  \n",
       "2    other     yes  \n",
       "3  unknown      no  \n",
       "4  unknown      no  \n",
       "5  unknown      no  \n",
       "6  unknown     yes  \n",
       "7  failure     yes  \n",
       "8  unknown      no  \n",
       "9  unknown      no  "
      ]
     },
     "execution_count": 106,
     "metadata": {},
     "output_type": "execute_result"
    }
   ],
   "source": [
    "df = pd.read_csv(\"data_bank_marketing_campaign.csv\")\n",
    "df.head(10)"
   ]
  },
  {
   "cell_type": "markdown",
   "id": "4aede62f-7601-4c20-8daa-b37513b2225b",
   "metadata": {},
   "source": [
    "Target pada data ini adalah kolom deposit. Pada data ini, target masih berupa Yes/No dan agar lebih mudah serta dapat diproses lebih lanjut, kolom deposit dirubah terlebih dahulu dengan keterangan sebagai berikut (default) :\n",
    "<br> 0 = Customer tidak melakukan deposit (No)\n",
    "<br> 1 = Customer melakukan deposit (Yes)\n",
    "\n",
    "Berikut untuk proses & hasil perubahannya :"
   ]
  },
  {
   "cell_type": "code",
   "execution_count": 107,
   "id": "04112f25-323f-4f8f-8662-fd0a95cf556f",
   "metadata": {},
   "outputs": [
    {
     "data": {
      "text/html": [
       "<div>\n",
       "<style scoped>\n",
       "    .dataframe tbody tr th:only-of-type {\n",
       "        vertical-align: middle;\n",
       "    }\n",
       "\n",
       "    .dataframe tbody tr th {\n",
       "        vertical-align: top;\n",
       "    }\n",
       "\n",
       "    .dataframe thead th {\n",
       "        text-align: right;\n",
       "    }\n",
       "</style>\n",
       "<table border=\"1\" class=\"dataframe\">\n",
       "  <thead>\n",
       "    <tr style=\"text-align: right;\">\n",
       "      <th></th>\n",
       "      <th>age</th>\n",
       "      <th>job</th>\n",
       "      <th>balance</th>\n",
       "      <th>housing</th>\n",
       "      <th>loan</th>\n",
       "      <th>contact</th>\n",
       "      <th>month</th>\n",
       "      <th>campaign</th>\n",
       "      <th>pdays</th>\n",
       "      <th>poutcome</th>\n",
       "      <th>deposit</th>\n",
       "    </tr>\n",
       "  </thead>\n",
       "  <tbody>\n",
       "    <tr>\n",
       "      <th>0</th>\n",
       "      <td>55</td>\n",
       "      <td>admin.</td>\n",
       "      <td>1662</td>\n",
       "      <td>no</td>\n",
       "      <td>no</td>\n",
       "      <td>cellular</td>\n",
       "      <td>jun</td>\n",
       "      <td>2</td>\n",
       "      <td>-1</td>\n",
       "      <td>unknown</td>\n",
       "      <td>1</td>\n",
       "    </tr>\n",
       "    <tr>\n",
       "      <th>1</th>\n",
       "      <td>39</td>\n",
       "      <td>self-employed</td>\n",
       "      <td>-3058</td>\n",
       "      <td>yes</td>\n",
       "      <td>yes</td>\n",
       "      <td>cellular</td>\n",
       "      <td>apr</td>\n",
       "      <td>3</td>\n",
       "      <td>-1</td>\n",
       "      <td>unknown</td>\n",
       "      <td>1</td>\n",
       "    </tr>\n",
       "    <tr>\n",
       "      <th>2</th>\n",
       "      <td>51</td>\n",
       "      <td>admin.</td>\n",
       "      <td>3025</td>\n",
       "      <td>no</td>\n",
       "      <td>no</td>\n",
       "      <td>cellular</td>\n",
       "      <td>may</td>\n",
       "      <td>1</td>\n",
       "      <td>352</td>\n",
       "      <td>other</td>\n",
       "      <td>1</td>\n",
       "    </tr>\n",
       "    <tr>\n",
       "      <th>3</th>\n",
       "      <td>38</td>\n",
       "      <td>services</td>\n",
       "      <td>-87</td>\n",
       "      <td>yes</td>\n",
       "      <td>no</td>\n",
       "      <td>cellular</td>\n",
       "      <td>may</td>\n",
       "      <td>1</td>\n",
       "      <td>-1</td>\n",
       "      <td>unknown</td>\n",
       "      <td>0</td>\n",
       "    </tr>\n",
       "    <tr>\n",
       "      <th>4</th>\n",
       "      <td>36</td>\n",
       "      <td>housemaid</td>\n",
       "      <td>205</td>\n",
       "      <td>yes</td>\n",
       "      <td>no</td>\n",
       "      <td>telephone</td>\n",
       "      <td>nov</td>\n",
       "      <td>4</td>\n",
       "      <td>-1</td>\n",
       "      <td>unknown</td>\n",
       "      <td>0</td>\n",
       "    </tr>\n",
       "    <tr>\n",
       "      <th>5</th>\n",
       "      <td>41</td>\n",
       "      <td>admin.</td>\n",
       "      <td>-76</td>\n",
       "      <td>yes</td>\n",
       "      <td>no</td>\n",
       "      <td>cellular</td>\n",
       "      <td>apr</td>\n",
       "      <td>1</td>\n",
       "      <td>-1</td>\n",
       "      <td>unknown</td>\n",
       "      <td>0</td>\n",
       "    </tr>\n",
       "    <tr>\n",
       "      <th>6</th>\n",
       "      <td>37</td>\n",
       "      <td>admin.</td>\n",
       "      <td>4803</td>\n",
       "      <td>no</td>\n",
       "      <td>no</td>\n",
       "      <td>cellular</td>\n",
       "      <td>jan</td>\n",
       "      <td>2</td>\n",
       "      <td>-1</td>\n",
       "      <td>unknown</td>\n",
       "      <td>1</td>\n",
       "    </tr>\n",
       "    <tr>\n",
       "      <th>7</th>\n",
       "      <td>36</td>\n",
       "      <td>technician</td>\n",
       "      <td>911</td>\n",
       "      <td>yes</td>\n",
       "      <td>yes</td>\n",
       "      <td>cellular</td>\n",
       "      <td>may</td>\n",
       "      <td>2</td>\n",
       "      <td>21</td>\n",
       "      <td>failure</td>\n",
       "      <td>1</td>\n",
       "    </tr>\n",
       "    <tr>\n",
       "      <th>8</th>\n",
       "      <td>35</td>\n",
       "      <td>management</td>\n",
       "      <td>805</td>\n",
       "      <td>no</td>\n",
       "      <td>no</td>\n",
       "      <td>cellular</td>\n",
       "      <td>sep</td>\n",
       "      <td>1</td>\n",
       "      <td>-1</td>\n",
       "      <td>unknown</td>\n",
       "      <td>0</td>\n",
       "    </tr>\n",
       "    <tr>\n",
       "      <th>9</th>\n",
       "      <td>57</td>\n",
       "      <td>housemaid</td>\n",
       "      <td>0</td>\n",
       "      <td>no</td>\n",
       "      <td>no</td>\n",
       "      <td>unknown</td>\n",
       "      <td>jun</td>\n",
       "      <td>1</td>\n",
       "      <td>-1</td>\n",
       "      <td>unknown</td>\n",
       "      <td>0</td>\n",
       "    </tr>\n",
       "  </tbody>\n",
       "</table>\n",
       "</div>"
      ],
      "text/plain": [
       "   age            job  balance housing loan    contact month  campaign  pdays  \\\n",
       "0   55         admin.     1662      no   no   cellular   jun         2     -1   \n",
       "1   39  self-employed    -3058     yes  yes   cellular   apr         3     -1   \n",
       "2   51         admin.     3025      no   no   cellular   may         1    352   \n",
       "3   38       services      -87     yes   no   cellular   may         1     -1   \n",
       "4   36      housemaid      205     yes   no  telephone   nov         4     -1   \n",
       "5   41         admin.      -76     yes   no   cellular   apr         1     -1   \n",
       "6   37         admin.     4803      no   no   cellular   jan         2     -1   \n",
       "7   36     technician      911     yes  yes   cellular   may         2     21   \n",
       "8   35     management      805      no   no   cellular   sep         1     -1   \n",
       "9   57      housemaid        0      no   no    unknown   jun         1     -1   \n",
       "\n",
       "  poutcome  deposit  \n",
       "0  unknown        1  \n",
       "1  unknown        1  \n",
       "2    other        1  \n",
       "3  unknown        0  \n",
       "4  unknown        0  \n",
       "5  unknown        0  \n",
       "6  unknown        1  \n",
       "7  failure        1  \n",
       "8  unknown        0  \n",
       "9  unknown        0  "
      ]
     },
     "execution_count": 107,
     "metadata": {},
     "output_type": "execute_result"
    }
   ],
   "source": [
    "df['deposit'] = LabelEncoder().fit_transform(df['deposit'])\n",
    "df.head(10)"
   ]
  },
  {
   "cell_type": "code",
   "execution_count": 108,
   "id": "2d1f5aa8-9739-4447-9cf3-8f7dca76bb26",
   "metadata": {},
   "outputs": [
    {
     "data": {
      "text/html": [
       "<div>\n",
       "<style scoped>\n",
       "    .dataframe tbody tr th:only-of-type {\n",
       "        vertical-align: middle;\n",
       "    }\n",
       "\n",
       "    .dataframe tbody tr th {\n",
       "        vertical-align: top;\n",
       "    }\n",
       "\n",
       "    .dataframe thead th {\n",
       "        text-align: right;\n",
       "    }\n",
       "</style>\n",
       "<table border=\"1\" class=\"dataframe\">\n",
       "  <thead>\n",
       "    <tr style=\"text-align: right;\">\n",
       "      <th></th>\n",
       "      <th>age</th>\n",
       "      <th>balance</th>\n",
       "      <th>campaign</th>\n",
       "      <th>pdays</th>\n",
       "      <th>deposit</th>\n",
       "    </tr>\n",
       "  </thead>\n",
       "  <tbody>\n",
       "    <tr>\n",
       "      <th>count</th>\n",
       "      <td>7813.000000</td>\n",
       "      <td>7813.000000</td>\n",
       "      <td>7813.000000</td>\n",
       "      <td>7813.000000</td>\n",
       "      <td>7813.000000</td>\n",
       "    </tr>\n",
       "    <tr>\n",
       "      <th>mean</th>\n",
       "      <td>41.257264</td>\n",
       "      <td>1512.448611</td>\n",
       "      <td>2.519775</td>\n",
       "      <td>51.408550</td>\n",
       "      <td>0.477665</td>\n",
       "    </tr>\n",
       "    <tr>\n",
       "      <th>std</th>\n",
       "      <td>11.919710</td>\n",
       "      <td>3089.291831</td>\n",
       "      <td>2.727001</td>\n",
       "      <td>108.072739</td>\n",
       "      <td>0.499533</td>\n",
       "    </tr>\n",
       "    <tr>\n",
       "      <th>min</th>\n",
       "      <td>18.000000</td>\n",
       "      <td>-6847.000000</td>\n",
       "      <td>1.000000</td>\n",
       "      <td>-1.000000</td>\n",
       "      <td>0.000000</td>\n",
       "    </tr>\n",
       "    <tr>\n",
       "      <th>25%</th>\n",
       "      <td>32.000000</td>\n",
       "      <td>127.000000</td>\n",
       "      <td>1.000000</td>\n",
       "      <td>-1.000000</td>\n",
       "      <td>0.000000</td>\n",
       "    </tr>\n",
       "    <tr>\n",
       "      <th>50%</th>\n",
       "      <td>39.000000</td>\n",
       "      <td>549.000000</td>\n",
       "      <td>2.000000</td>\n",
       "      <td>-1.000000</td>\n",
       "      <td>0.000000</td>\n",
       "    </tr>\n",
       "    <tr>\n",
       "      <th>75%</th>\n",
       "      <td>49.000000</td>\n",
       "      <td>1684.000000</td>\n",
       "      <td>3.000000</td>\n",
       "      <td>40.000000</td>\n",
       "      <td>1.000000</td>\n",
       "    </tr>\n",
       "    <tr>\n",
       "      <th>max</th>\n",
       "      <td>95.000000</td>\n",
       "      <td>66653.000000</td>\n",
       "      <td>63.000000</td>\n",
       "      <td>854.000000</td>\n",
       "      <td>1.000000</td>\n",
       "    </tr>\n",
       "  </tbody>\n",
       "</table>\n",
       "</div>"
      ],
      "text/plain": [
       "               age       balance     campaign        pdays      deposit\n",
       "count  7813.000000   7813.000000  7813.000000  7813.000000  7813.000000\n",
       "mean     41.257264   1512.448611     2.519775    51.408550     0.477665\n",
       "std      11.919710   3089.291831     2.727001   108.072739     0.499533\n",
       "min      18.000000  -6847.000000     1.000000    -1.000000     0.000000\n",
       "25%      32.000000    127.000000     1.000000    -1.000000     0.000000\n",
       "50%      39.000000    549.000000     2.000000    -1.000000     0.000000\n",
       "75%      49.000000   1684.000000     3.000000    40.000000     1.000000\n",
       "max      95.000000  66653.000000    63.000000   854.000000     1.000000"
      ]
     },
     "execution_count": 108,
     "metadata": {},
     "output_type": "execute_result"
    }
   ],
   "source": [
    "# Features Describe Data Numeric\n",
    "df.describe()"
   ]
  },
  {
   "cell_type": "code",
   "execution_count": 109,
   "id": "fca3e810-cbd0-4a00-9f31-9813bf932fa7",
   "metadata": {},
   "outputs": [
    {
     "data": {
      "text/html": [
       "<div>\n",
       "<style scoped>\n",
       "    .dataframe tbody tr th:only-of-type {\n",
       "        vertical-align: middle;\n",
       "    }\n",
       "\n",
       "    .dataframe tbody tr th {\n",
       "        vertical-align: top;\n",
       "    }\n",
       "\n",
       "    .dataframe thead th {\n",
       "        text-align: right;\n",
       "    }\n",
       "</style>\n",
       "<table border=\"1\" class=\"dataframe\">\n",
       "  <thead>\n",
       "    <tr style=\"text-align: right;\">\n",
       "      <th></th>\n",
       "      <th>job</th>\n",
       "      <th>housing</th>\n",
       "      <th>loan</th>\n",
       "      <th>contact</th>\n",
       "      <th>month</th>\n",
       "      <th>poutcome</th>\n",
       "    </tr>\n",
       "  </thead>\n",
       "  <tbody>\n",
       "    <tr>\n",
       "      <th>count</th>\n",
       "      <td>7813</td>\n",
       "      <td>7813</td>\n",
       "      <td>7813</td>\n",
       "      <td>7813</td>\n",
       "      <td>7813</td>\n",
       "      <td>7813</td>\n",
       "    </tr>\n",
       "    <tr>\n",
       "      <th>unique</th>\n",
       "      <td>12</td>\n",
       "      <td>2</td>\n",
       "      <td>2</td>\n",
       "      <td>3</td>\n",
       "      <td>12</td>\n",
       "      <td>4</td>\n",
       "    </tr>\n",
       "    <tr>\n",
       "      <th>top</th>\n",
       "      <td>management</td>\n",
       "      <td>no</td>\n",
       "      <td>no</td>\n",
       "      <td>cellular</td>\n",
       "      <td>may</td>\n",
       "      <td>unknown</td>\n",
       "    </tr>\n",
       "    <tr>\n",
       "      <th>freq</th>\n",
       "      <td>1792</td>\n",
       "      <td>4140</td>\n",
       "      <td>6789</td>\n",
       "      <td>5628</td>\n",
       "      <td>1976</td>\n",
       "      <td>5819</td>\n",
       "    </tr>\n",
       "  </tbody>\n",
       "</table>\n",
       "</div>"
      ],
      "text/plain": [
       "               job housing  loan   contact month poutcome\n",
       "count         7813    7813  7813      7813  7813     7813\n",
       "unique          12       2     2         3    12        4\n",
       "top     management      no    no  cellular   may  unknown\n",
       "freq          1792    4140  6789      5628  1976     5819"
      ]
     },
     "execution_count": 109,
     "metadata": {},
     "output_type": "execute_result"
    }
   ],
   "source": [
    "# Features Describe Data Categorical\n",
    "df.describe(exclude = np.number)"
   ]
  },
  {
   "cell_type": "code",
   "execution_count": 110,
   "id": "d032e35a-4334-4022-93b1-e45f66e550c9",
   "metadata": {},
   "outputs": [
    {
     "data": {
      "text/html": [
       "<div>\n",
       "<style scoped>\n",
       "    .dataframe tbody tr th:only-of-type {\n",
       "        vertical-align: middle;\n",
       "    }\n",
       "\n",
       "    .dataframe tbody tr th {\n",
       "        vertical-align: top;\n",
       "    }\n",
       "\n",
       "    .dataframe thead th {\n",
       "        text-align: right;\n",
       "    }\n",
       "</style>\n",
       "<table border=\"1\" class=\"dataframe\">\n",
       "  <thead>\n",
       "    <tr style=\"text-align: right;\">\n",
       "      <th></th>\n",
       "      <th>dataFeatures</th>\n",
       "      <th>dataType</th>\n",
       "      <th>null</th>\n",
       "      <th>unique</th>\n",
       "      <th>ListCategory</th>\n",
       "    </tr>\n",
       "  </thead>\n",
       "  <tbody>\n",
       "    <tr>\n",
       "      <th>0</th>\n",
       "      <td>job</td>\n",
       "      <td>object</td>\n",
       "      <td>0</td>\n",
       "      <td>12</td>\n",
       "      <td>[admin., self-employed, services, housemaid, technician, management, student, blue-collar, entrepreneur, retired, unemployed, unknown]</td>\n",
       "    </tr>\n",
       "    <tr>\n",
       "      <th>1</th>\n",
       "      <td>housing</td>\n",
       "      <td>object</td>\n",
       "      <td>0</td>\n",
       "      <td>2</td>\n",
       "      <td>[no, yes]</td>\n",
       "    </tr>\n",
       "    <tr>\n",
       "      <th>2</th>\n",
       "      <td>loan</td>\n",
       "      <td>object</td>\n",
       "      <td>0</td>\n",
       "      <td>2</td>\n",
       "      <td>[no, yes]</td>\n",
       "    </tr>\n",
       "    <tr>\n",
       "      <th>3</th>\n",
       "      <td>contact</td>\n",
       "      <td>object</td>\n",
       "      <td>0</td>\n",
       "      <td>3</td>\n",
       "      <td>[cellular, telephone, unknown]</td>\n",
       "    </tr>\n",
       "    <tr>\n",
       "      <th>4</th>\n",
       "      <td>month</td>\n",
       "      <td>object</td>\n",
       "      <td>0</td>\n",
       "      <td>12</td>\n",
       "      <td>[jun, apr, may, nov, jan, sep, feb, mar, aug, jul, oct, dec]</td>\n",
       "    </tr>\n",
       "    <tr>\n",
       "      <th>5</th>\n",
       "      <td>poutcome</td>\n",
       "      <td>object</td>\n",
       "      <td>0</td>\n",
       "      <td>4</td>\n",
       "      <td>[unknown, other, failure, success]</td>\n",
       "    </tr>\n",
       "  </tbody>\n",
       "</table>\n",
       "</div>"
      ],
      "text/plain": [
       "  dataFeatures dataType  null  unique  \\\n",
       "0          job   object     0      12   \n",
       "1      housing   object     0       2   \n",
       "2         loan   object     0       2   \n",
       "3      contact   object     0       3   \n",
       "4        month   object     0      12   \n",
       "5     poutcome   object     0       4   \n",
       "\n",
       "                                                                                                                             ListCategory  \n",
       "0  [admin., self-employed, services, housemaid, technician, management, student, blue-collar, entrepreneur, retired, unemployed, unknown]  \n",
       "1                                                                                                                               [no, yes]  \n",
       "2                                                                                                                               [no, yes]  \n",
       "3                                                                                                          [cellular, telephone, unknown]  \n",
       "4                                                                            [jun, apr, may, nov, jan, sep, feb, mar, aug, jul, oct, dec]  \n",
       "5                                                                                                      [unknown, other, failure, success]  "
      ]
     },
     "execution_count": 110,
     "metadata": {},
     "output_type": "execute_result"
    }
   ],
   "source": [
    "# Cek List Kategori masing-masing feature yang tergolong categorical data\n",
    "listItem = []\n",
    "for col in df.columns :\n",
    "    if df[col].dtype=='object' or df[col].dtype=='category' :\n",
    "        listItem.append([col, df[col].dtype, df[col].isna().sum(),\n",
    "                        df[col].nunique(), list(df[col].drop_duplicates().values)]);\n",
    "\n",
    "dfDesc = pd.DataFrame(columns=['dataFeatures', 'dataType', 'null', 'unique', 'ListCategory'],\n",
    "                     data=listItem)\n",
    "dfDesc"
   ]
  },
  {
   "cell_type": "markdown",
   "id": "91f2de60-17fe-4f7a-ad20-0d5b03d88f0b",
   "metadata": {},
   "source": [
    "## Data Cleaning & Feature Engineering"
   ]
  },
  {
   "cell_type": "markdown",
   "id": "81c68c9d-cf90-487b-b2cc-0b346c6a8108",
   "metadata": {},
   "source": [
    "Sebelum melakukan proses analisis lebih lanjut, ada baiknya data pada tabel tersebut dicek terlebih dahulu apakah layak untuk dilanjutkan ke tahap analisis atau butuh dimanipulasi. <br>**Mengapa demikian ?** Karena kita tidak ingin proses analisis me-lead ke pengambilan keputusan yang kurang tepat hanya karena data yang digunakan kualitasnya kurang"
   ]
  },
  {
   "cell_type": "markdown",
   "id": "dfe5439d-bd86-4645-90b7-dd05dd3d7f1d",
   "metadata": {},
   "source": [
    "#### 1. Cek Data Null & Tipe Data"
   ]
  },
  {
   "cell_type": "code",
   "execution_count": 111,
   "id": "86c8a3ca-a48e-4154-9664-8224091ae48b",
   "metadata": {},
   "outputs": [
    {
     "name": "stdout",
     "output_type": "stream",
     "text": [
      "<class 'pandas.core.frame.DataFrame'>\n",
      "RangeIndex: 7813 entries, 0 to 7812\n",
      "Data columns (total 11 columns):\n",
      " #   Column    Non-Null Count  Dtype \n",
      "---  ------    --------------  ----- \n",
      " 0   age       7813 non-null   int64 \n",
      " 1   job       7813 non-null   object\n",
      " 2   balance   7813 non-null   int64 \n",
      " 3   housing   7813 non-null   object\n",
      " 4   loan      7813 non-null   object\n",
      " 5   contact   7813 non-null   object\n",
      " 6   month     7813 non-null   object\n",
      " 7   campaign  7813 non-null   int64 \n",
      " 8   pdays     7813 non-null   int64 \n",
      " 9   poutcome  7813 non-null   object\n",
      " 10  deposit   7813 non-null   int32 \n",
      "dtypes: int32(1), int64(4), object(6)\n",
      "memory usage: 641.0+ KB\n"
     ]
    }
   ],
   "source": [
    "df.info()"
   ]
  },
  {
   "cell_type": "code",
   "execution_count": 112,
   "id": "6fb288d2-1dcc-4d4c-ae37-e3c2dc4af401",
   "metadata": {},
   "outputs": [
    {
     "data": {
      "text/plain": [
       "age         0\n",
       "job         0\n",
       "balance     0\n",
       "housing     0\n",
       "loan        0\n",
       "contact     0\n",
       "month       0\n",
       "campaign    0\n",
       "pdays       0\n",
       "poutcome    0\n",
       "deposit     0\n",
       "dtype: int64"
      ]
     },
     "execution_count": 112,
     "metadata": {},
     "output_type": "execute_result"
    }
   ],
   "source": [
    "# Cek jumlah null pada dataframe\n",
    "df.isnull().sum()"
   ]
  },
  {
   "cell_type": "markdown",
   "id": "6a00a1ba-b9e8-44b4-b650-4efa9cb4d384",
   "metadata": {},
   "source": [
    "###### **Summary**\n",
    "Berdasarkan hasil cek data null & tipe data di atas, dapat disimpulkan bahwa data data_bank_marketing_campaign.csv tidak terdapat nilai null dan tipe data dari masing-masing kolom telah sesuai. Hal ini tampak dari pengecekan jumlah null dari masing-masing kolom bernilai 0 dan dilihat dari kolom Dtype untuk masing-masing kolom telah sesuai."
   ]
  },
  {
   "cell_type": "markdown",
   "id": "14d1039d-b79d-485b-896d-5956a5ab976b",
   "metadata": {},
   "source": [
    "#### 2. Cek Outliers"
   ]
  },
  {
   "cell_type": "code",
   "execution_count": 113,
   "id": "3931a8e7-7d35-4c52-bcee-dbb4fe7196ea",
   "metadata": {},
   "outputs": [],
   "source": [
    "def outlier(col):\n",
    "    q1 = df[col].quantile(0.25)\n",
    "    q3 = df[col].quantile(0.75)\n",
    "    iqr = q3 - q1\n",
    "    below = q1 - 1.5 * iqr\n",
    "    above = q3 + 1.5 * iqr\n",
    "    idx_outlier = df[(df[col] > above) | (df[col] < below)].index\n",
    "    return idx_outlier"
   ]
  },
  {
   "cell_type": "code",
   "execution_count": 114,
   "id": "e49d8bda-f63f-4145-91fe-546e9d135a6b",
   "metadata": {},
   "outputs": [
    {
     "data": {
      "text/html": [
       "<div>\n",
       "<style scoped>\n",
       "    .dataframe tbody tr th:only-of-type {\n",
       "        vertical-align: middle;\n",
       "    }\n",
       "\n",
       "    .dataframe tbody tr th {\n",
       "        vertical-align: top;\n",
       "    }\n",
       "\n",
       "    .dataframe thead th {\n",
       "        text-align: right;\n",
       "    }\n",
       "</style>\n",
       "<table border=\"1\" class=\"dataframe\">\n",
       "  <thead>\n",
       "    <tr style=\"text-align: right;\">\n",
       "      <th></th>\n",
       "      <th>Column</th>\n",
       "      <th>Num of Outliers</th>\n",
       "      <th>Outliers(%)</th>\n",
       "    </tr>\n",
       "  </thead>\n",
       "  <tbody>\n",
       "    <tr>\n",
       "      <th>0</th>\n",
       "      <td>balance</td>\n",
       "      <td>736</td>\n",
       "      <td>9.42 %</td>\n",
       "    </tr>\n",
       "  </tbody>\n",
       "</table>\n",
       "</div>"
      ],
      "text/plain": [
       "    Column Num of Outliers Outliers(%)\n",
       "0  balance             736      9.42 %"
      ]
     },
     "execution_count": 114,
     "metadata": {},
     "output_type": "execute_result"
    }
   ],
   "source": [
    "df_outlier= pd.DataFrame(columns=['Column', 'Num of Outliers', 'Outliers(%)'])\n",
    "\n",
    "for i in ['balance']:\n",
    "    df_outlier= df_outlier.append({'Column': i, 'Num of Outliers': len(outlier(i)),'Outliers(%)': f'{round(len(outlier(i))/len(df)*100,2)} %'}, ignore_index=True)\n",
    "\n",
    "df_outlier"
   ]
  },
  {
   "cell_type": "markdown",
   "id": "e116d55d-b647-461e-96c6-538a37b1dda5",
   "metadata": {},
   "source": [
    "###### **Summary**\n",
    "Berdasarkan hasil cek outliers di atas, dapat disimpulkan bahwa pada data data_bank_marketing_campaign.csv untuk kolom balance terdapat nilai outliers sebesar 9.42%. Namun, outliers tersebut tidak dihilangkan karena angka outliers tersebut adalah angka murni dan bukan kesalahan input data serta nilai outliers tersebut hanya sebesar 9.42% saja terhadap data total (tidak terlalu besar)."
   ]
  },
  {
   "cell_type": "markdown",
   "id": "11a5552c-5aa6-4deb-a7af-9d7511106f58",
   "metadata": {},
   "source": [
    "#### 2. Cek Balance Target (Deposit)"
   ]
  },
  {
   "cell_type": "code",
   "execution_count": 115,
   "id": "7a0f29a2-f651-48ad-84a9-31b284797387",
   "metadata": {},
   "outputs": [
    {
     "data": {
      "text/plain": [
       "0    0.522335\n",
       "1    0.477665\n",
       "Name: deposit, dtype: float64"
      ]
     },
     "execution_count": 115,
     "metadata": {},
     "output_type": "execute_result"
    }
   ],
   "source": [
    "df.deposit.value_counts()/df.deposit.count()"
   ]
  },
  {
   "cell_type": "markdown",
   "id": "4e97b7b0-c861-4e59-b2f5-49aeb19f66dc",
   "metadata": {},
   "source": [
    "###### **Summary**\n",
    "Berdasarkan hasil cek balance terhadap nilai target (deposit), dapat terlihat bahwa antara customer yang melakukan deposit (1) dan yang tidak melakukan deposit (0) memiliki persentase sebesar 47% & 52%. Keduanya dapat dikatakan berimbang karena nilai keduanya tidak terlalu jauh berbeda. Dapat kita simpulkan juga bahwa kemungkinan terjadinya bias pada nilai data sangat kecil."
   ]
  },
  {
   "cell_type": "markdown",
   "id": "ee72d146-b795-4cc3-919e-45df2960df57",
   "metadata": {},
   "source": [
    "#### Summary Poin 1&2\n",
    "<code>Berdasarkan cek data null, cek tipe data, cek outliers & cek balance yang telah dilakukan diatas dapat disimpulkan data_bank_marketing_campaign.csv tidak memerlukan proses cleaning data</code>"
   ]
  },
  {
   "cell_type": "markdown",
   "id": "93b2b5e8-dbee-418c-bbfe-0fa970cd47dc",
   "metadata": {},
   "source": [
    "#### 3. EDA"
   ]
  },
  {
   "cell_type": "markdown",
   "id": "07f4a03b-6e2c-4330-a071-20251f870b7a",
   "metadata": {},
   "source": [
    "Ingin dilihat apakah terdapat korelasi antar variabel yang ada pada data. Pengecekan dilakukan menggunakan correlation matrix sebagai berikut:"
   ]
  },
  {
   "cell_type": "code",
   "execution_count": 116,
   "id": "7ccff965-a677-49a6-b010-b66fa9a6214a",
   "metadata": {},
   "outputs": [
    {
     "data": {
      "text/plain": [
       "(array([0.5, 1.5, 2.5, 3.5, 4.5]),\n",
       " [Text(0, 0.5, 'age'),\n",
       "  Text(0, 1.5, 'balance'),\n",
       "  Text(0, 2.5, 'campaign'),\n",
       "  Text(0, 3.5, 'pdays'),\n",
       "  Text(0, 4.5, 'deposit')])"
      ]
     },
     "execution_count": 116,
     "metadata": {},
     "output_type": "execute_result"
    },
    {
     "data": {
      "image/png": "[encoded data removed]",
      "text/plain": [
       "<Figure size 800x640 with 2 Axes>"
      ]
     },
     "metadata": {
      "needs_background": "light"
     },
     "output_type": "display_data"
    }
   ],
   "source": [
    "plt.figure(figsize=(10,8),dpi=80)\n",
    "sns.heatmap(df.corr(),cmap=\"RdBu_r\",annot=True,linewidth=0.5)\n",
    "plt.yticks(rotation=55)"
   ]
  },
  {
   "cell_type": "markdown",
   "id": "063c1da8-1a2c-4656-8078-f8279f4ff6d1",
   "metadata": {},
   "source": [
    "###### **Summary**\n",
    "Berdasarkan hasil cek correlation menggunakan matrix correlation dapat kita tarik beberapa kesimpulan :\n",
    "1. Terdapat korelasi positif antara pdays dengan deposit, dengan korelasi sebesar 16%. Ini berarti semakin banyak jumlah hari dari client terakhir dikontak terkait campaign maka semakin besar peluang customer untuk melakukan deposit.\n",
    "2. Terdapat korelasi negatif antara campaign dengan deposit, korelasinya sebesar -13%. Ini berarti semakin banyak jumlah kontak yang dilakukan terkait campaign maka semakin kecil peluang customer untuk melakukan deposit.\n",
    "3. Variable lainnya dianggap tidak saling berkorelasi karena nilai korelasinya <10%"
   ]
  },
  {
   "cell_type": "code",
   "execution_count": 117,
   "id": "476038b2-efc6-4c00-aefc-0c626dda76f7",
   "metadata": {},
   "outputs": [
    {
     "data": {
      "text/plain": [
       "may    1976\n",
       "aug    1085\n",
       "jul    1050\n",
       "jun     857\n",
       "apr     662\n",
       "nov     657\n",
       "feb     534\n",
       "oct     286\n",
       "jan     227\n",
       "sep     212\n",
       "mar     199\n",
       "dec      68\n",
       "Name: month, dtype: int64"
      ]
     },
     "execution_count": 117,
     "metadata": {},
     "output_type": "execute_result"
    }
   ],
   "source": [
    "df.month.value_counts()"
   ]
  },
  {
   "cell_type": "markdown",
   "id": "ce453896-5682-4574-a7de-a0a6c676c8d6",
   "metadata": {},
   "source": [
    "Berdasarkan info tersebut dapat terlihat bahwa, customer banyak menerima kontak di bulan mei, agustus & juli"
   ]
  },
  {
   "cell_type": "code",
   "execution_count": 118,
   "id": "667ec154-a40f-4d13-adac-8635b539a1f0",
   "metadata": {},
   "outputs": [
    {
     "data": {
      "text/plain": [
       "26-50     5779\n",
       "51-75     1621\n",
       "0-25       307\n",
       "76-100     106\n",
       "Name: age_interval, dtype: int64"
      ]
     },
     "execution_count": 118,
     "metadata": {},
     "output_type": "execute_result"
    }
   ],
   "source": [
    "interval_range = pd.interval_range(start=0, freq=25, end=100)\n",
    "df['age_interval'] = pd.cut(df['age'], bins=[0, 25, 50, 75, float('Inf')], labels=['0-25', '26-50', '51-75', '76-100'])\n",
    "df.age_interval.value_counts()"
   ]
  },
  {
   "cell_type": "markdown",
   "id": "39812cbc-423f-4aa5-84fa-6d4ef3d6b319",
   "metadata": {},
   "source": [
    "Berdasarkan informasi diatas, dapat kita tangkap bahwa untuk customer bank kebanyakan memiliki umur di rentas 26-50 tahun. Dan yang kedua tertinggi memiliki interval umur 51-75 tahun."
   ]
  },
  {
   "cell_type": "markdown",
   "id": "7848160e-adf2-40a0-a25b-b12f386c5b60",
   "metadata": {},
   "source": [
    "#### 5. Stratified Data & Splitting Dataset Train - Test"
   ]
  },
  {
   "cell_type": "markdown",
   "id": "d0a880e4-b70f-449c-8dbe-729e3740575e",
   "metadata": {},
   "source": [
    "Data pertama-tama di-stratified menggunakan function stratifiedShuffleSplit. Function tersebut merupakan penggabungan ShuffleSplit & StratifiedKFold. Digunakan function ini untuk menjaga proporsi class pada training set & test set sama."
   ]
  },
  {
   "cell_type": "code",
   "execution_count": 119,
   "id": "3d22efd8-926d-4bcd-b364-47932401a644",
   "metadata": {},
   "outputs": [],
   "source": [
    "df.drop(['age_interval'],axis=1, inplace=True) #Drop kolom age_interval karena tidak dibutuhkan dalam proses pemodelan\n",
    "sss=StratifiedShuffleSplit(n_splits=1, test_size=0.2, random_state=1)\n",
    "for train_index, test_index in sss.split(df.drop(\"deposit\",axis=1), df.deposit):\n",
    "    traindf=df.loc[train_index]\n",
    "    testdf= df.loc[test_index]"
   ]
  },
  {
   "cell_type": "markdown",
   "id": "b1ab8420-38e8-44cc-b95f-dd116e3be4fb",
   "metadata": {},
   "source": [
    "#### 6. Encoding"
   ]
  },
  {
   "cell_type": "markdown",
   "id": "a905f39e-3e25-418c-997e-e9fbff837dba",
   "metadata": {},
   "source": [
    "Sebelum melakukan modeling, data yang tergolong kedalam categorical harus terlebih dahulu di-encoding ke dalam bentuk numeric. Dengan begitu data dapat diproses lebih lanjut oleh machine learning.\n",
    "<br> Sebelumnya kita telah melakukan encoding pada variable target (deposit), sekarang kita lakukan encoding pada variable independen yang tergolong categorical."
   ]
  },
  {
   "cell_type": "code",
   "execution_count": 120,
   "id": "905bc83b-fc5c-47cf-8b97-1c9e1b3c8a63",
   "metadata": {},
   "outputs": [
    {
     "data": {
      "text/html": [
       "<div>\n",
       "<style scoped>\n",
       "    .dataframe tbody tr th:only-of-type {\n",
       "        vertical-align: middle;\n",
       "    }\n",
       "\n",
       "    .dataframe tbody tr th {\n",
       "        vertical-align: top;\n",
       "    }\n",
       "\n",
       "    .dataframe thead th {\n",
       "        text-align: right;\n",
       "    }\n",
       "</style>\n",
       "<table border=\"1\" class=\"dataframe\">\n",
       "  <thead>\n",
       "    <tr style=\"text-align: right;\">\n",
       "      <th></th>\n",
       "      <th>age</th>\n",
       "      <th>balance</th>\n",
       "      <th>campaign</th>\n",
       "      <th>pdays</th>\n",
       "      <th>deposit</th>\n",
       "      <th>job_admin.</th>\n",
       "      <th>job_blue-collar</th>\n",
       "      <th>job_entrepreneur</th>\n",
       "      <th>job_housemaid</th>\n",
       "      <th>job_management</th>\n",
       "      <th>...</th>\n",
       "      <th>month_jun</th>\n",
       "      <th>month_mar</th>\n",
       "      <th>month_may</th>\n",
       "      <th>month_nov</th>\n",
       "      <th>month_oct</th>\n",
       "      <th>month_sep</th>\n",
       "      <th>poutcome_failure</th>\n",
       "      <th>poutcome_other</th>\n",
       "      <th>poutcome_success</th>\n",
       "      <th>poutcome_unknown</th>\n",
       "    </tr>\n",
       "  </thead>\n",
       "  <tbody>\n",
       "    <tr>\n",
       "      <th>0</th>\n",
       "      <td>55</td>\n",
       "      <td>1662</td>\n",
       "      <td>2</td>\n",
       "      <td>-1</td>\n",
       "      <td>1</td>\n",
       "      <td>1</td>\n",
       "      <td>0</td>\n",
       "      <td>0</td>\n",
       "      <td>0</td>\n",
       "      <td>0</td>\n",
       "      <td>...</td>\n",
       "      <td>1</td>\n",
       "      <td>0</td>\n",
       "      <td>0</td>\n",
       "      <td>0</td>\n",
       "      <td>0</td>\n",
       "      <td>0</td>\n",
       "      <td>0</td>\n",
       "      <td>0</td>\n",
       "      <td>0</td>\n",
       "      <td>1</td>\n",
       "    </tr>\n",
       "    <tr>\n",
       "      <th>1</th>\n",
       "      <td>39</td>\n",
       "      <td>-3058</td>\n",
       "      <td>3</td>\n",
       "      <td>-1</td>\n",
       "      <td>1</td>\n",
       "      <td>0</td>\n",
       "      <td>0</td>\n",
       "      <td>0</td>\n",
       "      <td>0</td>\n",
       "      <td>0</td>\n",
       "      <td>...</td>\n",
       "      <td>0</td>\n",
       "      <td>0</td>\n",
       "      <td>0</td>\n",
       "      <td>0</td>\n",
       "      <td>0</td>\n",
       "      <td>0</td>\n",
       "      <td>0</td>\n",
       "      <td>0</td>\n",
       "      <td>0</td>\n",
       "      <td>1</td>\n",
       "    </tr>\n",
       "    <tr>\n",
       "      <th>2</th>\n",
       "      <td>51</td>\n",
       "      <td>3025</td>\n",
       "      <td>1</td>\n",
       "      <td>352</td>\n",
       "      <td>1</td>\n",
       "      <td>1</td>\n",
       "      <td>0</td>\n",
       "      <td>0</td>\n",
       "      <td>0</td>\n",
       "      <td>0</td>\n",
       "      <td>...</td>\n",
       "      <td>0</td>\n",
       "      <td>0</td>\n",
       "      <td>1</td>\n",
       "      <td>0</td>\n",
       "      <td>0</td>\n",
       "      <td>0</td>\n",
       "      <td>0</td>\n",
       "      <td>1</td>\n",
       "      <td>0</td>\n",
       "      <td>0</td>\n",
       "    </tr>\n",
       "    <tr>\n",
       "      <th>3</th>\n",
       "      <td>38</td>\n",
       "      <td>-87</td>\n",
       "      <td>1</td>\n",
       "      <td>-1</td>\n",
       "      <td>0</td>\n",
       "      <td>0</td>\n",
       "      <td>0</td>\n",
       "      <td>0</td>\n",
       "      <td>0</td>\n",
       "      <td>0</td>\n",
       "      <td>...</td>\n",
       "      <td>0</td>\n",
       "      <td>0</td>\n",
       "      <td>1</td>\n",
       "      <td>0</td>\n",
       "      <td>0</td>\n",
       "      <td>0</td>\n",
       "      <td>0</td>\n",
       "      <td>0</td>\n",
       "      <td>0</td>\n",
       "      <td>1</td>\n",
       "    </tr>\n",
       "    <tr>\n",
       "      <th>4</th>\n",
       "      <td>36</td>\n",
       "      <td>205</td>\n",
       "      <td>4</td>\n",
       "      <td>-1</td>\n",
       "      <td>0</td>\n",
       "      <td>0</td>\n",
       "      <td>0</td>\n",
       "      <td>0</td>\n",
       "      <td>1</td>\n",
       "      <td>0</td>\n",
       "      <td>...</td>\n",
       "      <td>0</td>\n",
       "      <td>0</td>\n",
       "      <td>0</td>\n",
       "      <td>1</td>\n",
       "      <td>0</td>\n",
       "      <td>0</td>\n",
       "      <td>0</td>\n",
       "      <td>0</td>\n",
       "      <td>0</td>\n",
       "      <td>1</td>\n",
       "    </tr>\n",
       "    <tr>\n",
       "      <th>...</th>\n",
       "      <td>...</td>\n",
       "      <td>...</td>\n",
       "      <td>...</td>\n",
       "      <td>...</td>\n",
       "      <td>...</td>\n",
       "      <td>...</td>\n",
       "      <td>...</td>\n",
       "      <td>...</td>\n",
       "      <td>...</td>\n",
       "      <td>...</td>\n",
       "      <td>...</td>\n",
       "      <td>...</td>\n",
       "      <td>...</td>\n",
       "      <td>...</td>\n",
       "      <td>...</td>\n",
       "      <td>...</td>\n",
       "      <td>...</td>\n",
       "      <td>...</td>\n",
       "      <td>...</td>\n",
       "      <td>...</td>\n",
       "      <td>...</td>\n",
       "    </tr>\n",
       "    <tr>\n",
       "      <th>7808</th>\n",
       "      <td>62</td>\n",
       "      <td>2</td>\n",
       "      <td>1</td>\n",
       "      <td>-1</td>\n",
       "      <td>1</td>\n",
       "      <td>0</td>\n",
       "      <td>0</td>\n",
       "      <td>0</td>\n",
       "      <td>1</td>\n",
       "      <td>0</td>\n",
       "      <td>...</td>\n",
       "      <td>0</td>\n",
       "      <td>0</td>\n",
       "      <td>0</td>\n",
       "      <td>1</td>\n",
       "      <td>0</td>\n",
       "      <td>0</td>\n",
       "      <td>0</td>\n",
       "      <td>0</td>\n",
       "      <td>0</td>\n",
       "      <td>1</td>\n",
       "    </tr>\n",
       "    <tr>\n",
       "      <th>7809</th>\n",
       "      <td>48</td>\n",
       "      <td>5473</td>\n",
       "      <td>2</td>\n",
       "      <td>184</td>\n",
       "      <td>1</td>\n",
       "      <td>0</td>\n",
       "      <td>0</td>\n",
       "      <td>0</td>\n",
       "      <td>1</td>\n",
       "      <td>0</td>\n",
       "      <td>...</td>\n",
       "      <td>0</td>\n",
       "      <td>0</td>\n",
       "      <td>0</td>\n",
       "      <td>0</td>\n",
       "      <td>0</td>\n",
       "      <td>0</td>\n",
       "      <td>0</td>\n",
       "      <td>0</td>\n",
       "      <td>1</td>\n",
       "      <td>0</td>\n",
       "    </tr>\n",
       "    <tr>\n",
       "      <th>7810</th>\n",
       "      <td>36</td>\n",
       "      <td>179</td>\n",
       "      <td>8</td>\n",
       "      <td>-1</td>\n",
       "      <td>0</td>\n",
       "      <td>0</td>\n",
       "      <td>0</td>\n",
       "      <td>0</td>\n",
       "      <td>0</td>\n",
       "      <td>0</td>\n",
       "      <td>...</td>\n",
       "      <td>0</td>\n",
       "      <td>0</td>\n",
       "      <td>0</td>\n",
       "      <td>0</td>\n",
       "      <td>0</td>\n",
       "      <td>0</td>\n",
       "      <td>0</td>\n",
       "      <td>0</td>\n",
       "      <td>0</td>\n",
       "      <td>1</td>\n",
       "    </tr>\n",
       "    <tr>\n",
       "      <th>7811</th>\n",
       "      <td>31</td>\n",
       "      <td>54</td>\n",
       "      <td>1</td>\n",
       "      <td>-1</td>\n",
       "      <td>0</td>\n",
       "      <td>1</td>\n",
       "      <td>0</td>\n",
       "      <td>0</td>\n",
       "      <td>0</td>\n",
       "      <td>0</td>\n",
       "      <td>...</td>\n",
       "      <td>0</td>\n",
       "      <td>0</td>\n",
       "      <td>0</td>\n",
       "      <td>1</td>\n",
       "      <td>0</td>\n",
       "      <td>0</td>\n",
       "      <td>0</td>\n",
       "      <td>0</td>\n",
       "      <td>0</td>\n",
       "      <td>1</td>\n",
       "    </tr>\n",
       "    <tr>\n",
       "      <th>7812</th>\n",
       "      <td>60</td>\n",
       "      <td>1588</td>\n",
       "      <td>1</td>\n",
       "      <td>-1</td>\n",
       "      <td>1</td>\n",
       "      <td>0</td>\n",
       "      <td>0</td>\n",
       "      <td>0</td>\n",
       "      <td>0</td>\n",
       "      <td>0</td>\n",
       "      <td>...</td>\n",
       "      <td>0</td>\n",
       "      <td>0</td>\n",
       "      <td>0</td>\n",
       "      <td>0</td>\n",
       "      <td>1</td>\n",
       "      <td>0</td>\n",
       "      <td>0</td>\n",
       "      <td>0</td>\n",
       "      <td>0</td>\n",
       "      <td>1</td>\n",
       "    </tr>\n",
       "  </tbody>\n",
       "</table>\n",
       "<p>7813 rows × 40 columns</p>\n",
       "</div>"
      ],
      "text/plain": [
       "      age  balance  campaign  pdays  deposit  job_admin.  job_blue-collar  \\\n",
       "0      55     1662         2     -1        1           1                0   \n",
       "1      39    -3058         3     -1        1           0                0   \n",
       "2      51     3025         1    352        1           1                0   \n",
       "3      38      -87         1     -1        0           0                0   \n",
       "4      36      205         4     -1        0           0                0   \n",
       "...   ...      ...       ...    ...      ...         ...              ...   \n",
       "7808   62        2         1     -1        1           0                0   \n",
       "7809   48     5473         2    184        1           0                0   \n",
       "7810   36      179         8     -1        0           0                0   \n",
       "7811   31       54         1     -1        0           1                0   \n",
       "7812   60     1588         1     -1        1           0                0   \n",
       "\n",
       "      job_entrepreneur  job_housemaid  job_management  ...  month_jun  \\\n",
       "0                    0              0               0  ...          1   \n",
       "1                    0              0               0  ...          0   \n",
       "2                    0              0               0  ...          0   \n",
       "3                    0              0               0  ...          0   \n",
       "4                    0              1               0  ...          0   \n",
       "...                ...            ...             ...  ...        ...   \n",
       "7808                 0              1               0  ...          0   \n",
       "7809                 0              1               0  ...          0   \n",
       "7810                 0              0               0  ...          0   \n",
       "7811                 0              0               0  ...          0   \n",
       "7812                 0              0               0  ...          0   \n",
       "\n",
       "      month_mar  month_may  month_nov  month_oct  month_sep  poutcome_failure  \\\n",
       "0             0          0          0          0          0                 0   \n",
       "1             0          0          0          0          0                 0   \n",
       "2             0          1          0          0          0                 0   \n",
       "3             0          1          0          0          0                 0   \n",
       "4             0          0          1          0          0                 0   \n",
       "...         ...        ...        ...        ...        ...               ...   \n",
       "7808          0          0          1          0          0                 0   \n",
       "7809          0          0          0          0          0                 0   \n",
       "7810          0          0          0          0          0                 0   \n",
       "7811          0          0          1          0          0                 0   \n",
       "7812          0          0          0          1          0                 0   \n",
       "\n",
       "      poutcome_other  poutcome_success  poutcome_unknown  \n",
       "0                  0                 0                 1  \n",
       "1                  0                 0                 1  \n",
       "2                  1                 0                 0  \n",
       "3                  0                 0                 1  \n",
       "4                  0                 0                 1  \n",
       "...              ...               ...               ...  \n",
       "7808               0                 0                 1  \n",
       "7809               0                 1                 0  \n",
       "7810               0                 0                 1  \n",
       "7811               0                 0                 1  \n",
       "7812               0                 0                 1  \n",
       "\n",
       "[7813 rows x 40 columns]"
      ]
     },
     "execution_count": 120,
     "metadata": {},
     "output_type": "execute_result"
    }
   ],
   "source": [
    "df=pd.get_dummies(df)\n",
    "df"
   ]
  },
  {
   "cell_type": "markdown",
   "id": "019531a6-96e9-45cd-a7a4-beae792536a1",
   "metadata": {},
   "source": [
    "## Independent & Dependent Variable"
   ]
  },
  {
   "cell_type": "markdown",
   "id": "c12b24c3-56f4-45c1-8b9d-aa3dd2246168",
   "metadata": {},
   "source": [
    "Masing-masing var independen & dependen dari kedua data set (Train & Test) kemudian didefinisikan. x merupakan var independen dan y merupakan var dependen."
   ]
  },
  {
   "cell_type": "code",
   "execution_count": 121,
   "id": "2db3ac64-f23b-4ae8-b6b9-c746db87919b",
   "metadata": {},
   "outputs": [],
   "source": [
    "for train_index, test_index in sss.split(df.drop(\"deposit\",axis=1), df.deposit):\n",
    "    traindf=df.loc[train_index]\n",
    "    testdf= df.loc[test_index]\n",
    "\n",
    "xtrain=traindf.drop('deposit', axis=1)\n",
    "ytrain=traindf.deposit\n",
    "\n",
    "xtest=testdf.drop('deposit', axis=1)\n",
    "ytest=testdf.deposit"
   ]
  },
  {
   "cell_type": "markdown",
   "id": "fd395426-ff34-446b-9925-5846747be312",
   "metadata": {},
   "source": [
    "## Data Modelling"
   ]
  },
  {
   "cell_type": "markdown",
   "id": "ff516822-e4e7-4ea4-8f07-3ea87227f4dd",
   "metadata": {},
   "source": [
    "Kemudian kita mulai mencoba membangun model menggunakan beberapa ML algorithma tipe classifier supervised. Kemudian setiap model ML tersebut dibandingkan performa-nya untuk melihat model mana yang paling cocok untuk digunakan. Berikut untuk prosesnya:"
   ]
  },
  {
   "cell_type": "markdown",
   "id": "9b4cc884-7060-4090-b23b-8fea27823d7f",
   "metadata": {},
   "source": [
    "####  1. Random Forest"
   ]
  },
  {
   "cell_type": "markdown",
   "id": "5ce59c65-040d-4601-9efc-dab7afe26d22",
   "metadata": {},
   "source": [
    "Random Forest merupakan algoritma supervised. Random forest mengkombinasikan masing-masing tree yang baik menjadi 1 model. Model ini bersifat robust dan mudah digunakan. \n",
    "\n",
    "Random Forest memiliki beberapa keunggulan:\n",
    "<br>1. Mengurangi resiko terjadinya ovefitting\n",
    "<br>2. Lebih flexible (dapat handle classification ataupun regression dengan akurasi yang tinggi)\n",
    "<br>3. Mudah dalam menentukan feature importance\n",
    "<br>4. Algoritma yang paling banyak digunakan\n",
    "\n",
    "Reference : \n",
    "1. https://machinelearning.mipa.ugm.ac.id/2018/07/28/random-forest/\n",
    "2. https://builtin.com/data-science/random-forest-algorithm"
   ]
  },
  {
   "cell_type": "code",
   "execution_count": 122,
   "id": "42b63dd5-0ced-4338-9035-2c3a9c7392a1",
   "metadata": {},
   "outputs": [
    {
     "name": "stdout",
     "output_type": "stream",
     "text": [
      "Akurasi data train:   96.4%\n",
      "Akurasi Mean Cross Validation: 71.4%\n",
      "Akurasi data test:    71.1%\n"
     ]
    }
   ],
   "source": [
    "rf= RandomForestClassifier(random_state=1)\n",
    "pg_rf={'n_estimators': [100,200,300],'max_depth': [20,40,50]}\n",
    "\n",
    "gs_rf=GridSearchCV(estimator= rf,\n",
    "               param_grid= pg_rf,\n",
    "               scoring='accuracy',\n",
    "               cv=2)\n",
    "\n",
    "#combine grid cross validation\n",
    "gs_rf_scores = cross_val_score(gs_rf, X=xtrain, y=ytrain, cv=5,scoring='accuracy', n_jobs=-1)\n",
    "\n",
    "# fitting\n",
    "gs_rf.fit(xtrain, ytrain)\n",
    "gs_rf_best=gs_rf.best_estimator_\n",
    "gs_rf_best.fit(xtrain, ytrain)\n",
    "\n",
    "print('Akurasi data train:   {0:.1f}%'.format(gs_rf.score(xtrain, ytrain)*100))\n",
    "print('Akurasi Mean Cross Validation: {0:.1f}%'.format(np.mean(gs_rf_scores)*100))\n",
    "print('Akurasi data test:    {0:.1f}%'.format(gs_rf.score(xtest, ytest)*100))"
   ]
  },
  {
   "cell_type": "markdown",
   "id": "18fb0c1c-585c-4056-ab95-809475913e70",
   "metadata": {},
   "source": [
    "####  2. KNN"
   ]
  },
  {
   "cell_type": "markdown",
   "id": "cb33d36d-4e3a-406f-8a83-011f7f35a081",
   "metadata": {},
   "source": [
    "K-Nearest Neighbor merupakan algortima instance-based & non-parametric. \n",
    "<br>Non-Parametric -> tidak terdapat parameter tertentu\n",
    "<br>Instance-based -> Memorize training dataset\n",
    "\n",
    "KNN bekerja dengan mencari K-nearest neighbor dari sampel baru berdasarkan jarak metric dan membuat prediksi"
   ]
  },
  {
   "cell_type": "code",
   "execution_count": 123,
   "id": "f267365e-c775-4a2c-9559-644f70ec71df",
   "metadata": {},
   "outputs": [
    {
     "name": "stdout",
     "output_type": "stream",
     "text": [
      "Akurasi data train:   75.9%\n",
      "Akurasi Mean Cross Validation: 68.2%\n",
      "Akurasi data test:    67.3%\n"
     ]
    }
   ],
   "source": [
    "# pipeline combine transformers & estimator\n",
    "pipe_knn= make_pipeline(StandardScaler(), KNeighborsClassifier())\n",
    " \n",
    "# choose best combine hyperparameter\n",
    "gs_knn=GridSearchCV(estimator= pipe_knn,\n",
    "               param_grid={'kneighborsclassifier__n_neighbors':[4,5,6,7]},\n",
    "               scoring='accuracy',\n",
    "               cv=10)\n",
    "\n",
    "#combine grid cross validation\n",
    "gs_knn_scores = cross_val_score(gs_knn, X=xtrain, y=ytrain, cv=5,scoring='accuracy', n_jobs=-1)\n",
    "\n",
    "# fitting\n",
    "gs_knn.fit(xtrain, ytrain)\n",
    "gs_knn_best=gs_knn.best_estimator_\n",
    "gs_knn_best.fit(xtrain, ytrain)\n",
    "\n",
    "print('Akurasi data train:   {0:.1f}%'.format(gs_knn.score(xtrain, ytrain)*100))\n",
    "print('Akurasi Mean Cross Validation: {0:.1f}%'.format(np.mean(gs_knn_scores)*100))\n",
    "print('Akurasi data test:    {0:.1f}%'.format(gs_knn.score(xtest, ytest)*100))"
   ]
  },
  {
   "cell_type": "markdown",
   "id": "045dd74a-4c8c-4ec5-8332-ff03a278be31",
   "metadata": {},
   "source": [
    "####  3. XGBoost"
   ]
  },
  {
   "cell_type": "markdown",
   "id": "c51e5dd7-e999-4553-ad97-7eb9c49a5325",
   "metadata": {},
   "source": [
    "XGBoost merupakan implementasi dari Gradient Boosting Decision Tree. Boosting itu mengkombinasikan simple model untuk membangun model yang lebih kuat. Predictor ditraining secara berurut, dengan maksud untuk mempelajari masalah sebelumnya kemudian mencoba memperbaiki model sebelumnya."
   ]
  },
  {
   "cell_type": "code",
   "execution_count": 124,
   "id": "dd82d541-7448-4f1d-88cc-228fa335cd9b",
   "metadata": {},
   "outputs": [
    {
     "name": "stdout",
     "output_type": "stream",
     "text": [
      "Akurasi data train:   99.9%\n",
      "Akurasi Mean Cross Validation: 69.4%\n",
      "Akurasi data test:     68.8%\n"
     ]
    }
   ],
   "source": [
    "# estimator\n",
    "xb= xgb.XGBClassifier(random_state=1)\n",
    "\n",
    "# choose best combine hyperparameter\n",
    "pg_xb={'n_estimators':[100,200,300], 'max_depth':[20,40,50]}\n",
    "\n",
    "gs_xb=GridSearchCV(estimator= xb,\n",
    "               param_grid= pg_xb,\n",
    "               scoring='accuracy',\n",
    "               cv=2)\n",
    "\n",
    "#combine grid cross validation\n",
    "gs_xb_scores = cross_val_score(gs_xb, X=xtrain, y=ytrain, cv=5,scoring='accuracy', n_jobs=-1)\n",
    "\n",
    "# fitting\n",
    "gs_xb.fit(xtrain, ytrain)\n",
    "gs_xb_best=gs_xb.best_estimator_\n",
    "gs_xb_best.fit(xtrain, ytrain)\n",
    "\n",
    "print('Akurasi data train:   {0:.1f}%'.format(gs_xb.score(xtrain, ytrain)*100))\n",
    "print('Akurasi Mean Cross Validation: {0:.1f}%'.format(np.mean(gs_xb_scores)*100))\n",
    "print('Akurasi data test:     {0:.1f}%'.format(gs_xb.score(xtest, ytest)*100))"
   ]
  },
  {
   "cell_type": "markdown",
   "id": "94cf215c-2c5d-430c-88e6-9d945b163e78",
   "metadata": {},
   "source": [
    "Berdasarkan 3 model diatas dapat kita lihat bahwa :\n",
    "1. Model yang memiliki akurasi data train tertinggi adalah model XGBoost. Namun perlu kita lihat dari sisi akurasi data test-nya, model XGBoost memiliki nilai akurasi 68.8%. Antara test & train memiliki nilai akurasi yang jauh. Disini dapat kita tarik kesimpulan bahwa model ini overfitting\n",
    "2. Untuk model Random Forest, akurasi data train sebesar 96.4% dan akurasi data test sebesar 71.1%. Sedangkan untuk model KNN memiliki akurasi data train sebesar 75.9% & data test sebesar 67.3%.\n",
    "3. Dari ketiganya dipilih model Random Forest dengan pertimbangan memiliki akurasi data train yang tinggi & data test yang tinggi, serta kedua nilai tidak terlalu jauh perbedaaanya.Selain itu dari segi model, random forest merupakan model yang lebih sering digunakan dan mudah dipahami."
   ]
  },
  {
   "cell_type": "markdown",
   "id": "d58c5903-f748-4311-ad8c-a554a8aa01b1",
   "metadata": {},
   "source": [
    "# Model Evaluation"
   ]
  },
  {
   "cell_type": "markdown",
   "id": "8146ceb4-f302-42e7-b4ea-63849238a9bf",
   "metadata": {},
   "source": [
    "####  1. Confusion Matrix"
   ]
  },
  {
   "cell_type": "code",
   "execution_count": 125,
   "id": "68db778e-f2a9-4abd-b305-d07135a8bbcf",
   "metadata": {},
   "outputs": [
    {
     "data": {
      "image/png": "[encoded data removed]",
      "text/plain": [
       "<Figure size 864x576 with 2 Axes>"
      ]
     },
     "metadata": {
      "needs_background": "light"
     },
     "output_type": "display_data"
    }
   ],
   "source": [
    "ypreds=gs_rf_best.predict(xtest)\n",
    "conf_matrix = confusion_matrix(ytest, ypreds)\n",
    "f, ax = plt.subplots(figsize=(12, 8))\n",
    "sns.heatmap(conf_matrix, annot=True, fmt=\"d\", linewidths=.5, ax=ax)\n",
    "plt.title(\"Confusion Matrix\", fontsize=20)\n",
    "plt.subplots_adjust(left=0.15, right=0.99, bottom=0.15, top=0.99)\n",
    "ax.set_yticks(np.arange(conf_matrix.shape[0]) + 0.5, minor=False)\n",
    "ax.set_xticklabels(['Predict (0)','Predict (1)'],fontsize=16, rotation=360)\n",
    "ax.set_yticklabels(['Actual (0)','Actual (1)'], fontsize=16, rotation=360)\n",
    "plt.show()"
   ]
  },
  {
   "cell_type": "markdown",
   "id": "e106b9e8-0cad-481c-ad9a-7e6e26ce85f5",
   "metadata": {},
   "source": [
    "1. True Negative (TN - Actual(0)&Predict(0)) : Model memprediksi customer tidak melakukan deposit dan customer tersebut kenyataannya tidak melakukan deposit.\n",
    "2. True Positive (TP - Actual(1)&Predict(1)) : Model memprediksi customer melakukan deposit dan customer tersebut kenyataannya melakukan deposit.\n",
    "3. False Negative (FN - Actual(1)&Predict(0)) : Model memprediksi customer tidak melakukan deposit padahal customer tersebut kenyataannya melakukan deposit.\n",
    "4. False Positive (FP - Actual(0)&Predict(1)) : Model memprediksi customer melakukan deposit padahal customer tersebut kenyataannya tidak melakukan deposit."
   ]
  },
  {
   "cell_type": "markdown",
   "id": "07a27720-46d2-4440-b183-35b443fe533e",
   "metadata": {},
   "source": [
    "####  2. Metric Evaluation"
   ]
  },
  {
   "cell_type": "code",
   "execution_count": 126,
   "id": "146e3a66-61b1-4665-870a-4a011f4a75d4",
   "metadata": {},
   "outputs": [
    {
     "name": "stdout",
     "output_type": "stream",
     "text": [
      "              precision    recall  f1-score   support\n",
      "\n",
      "           0       0.69      0.80      0.74       816\n",
      "           1       0.74      0.62      0.67       747\n",
      "\n",
      "    accuracy                           0.71      1563\n",
      "   macro avg       0.72      0.71      0.71      1563\n",
      "weighted avg       0.71      0.71      0.71      1563\n",
      "\n"
     ]
    }
   ],
   "source": [
    "print(classification_report(ytest,ypreds))"
   ]
  },
  {
   "cell_type": "markdown",
   "id": "29dbe496-b121-45fd-a539-768ed6354472",
   "metadata": {},
   "source": [
    "Untuk mengevaluasi digunakan metric evaluation F1-Score yang merupakan harmonisasi dari precision & recall. Evaluasi tidak menggunakan precision ataupun recall dikarenakan keduanya saling trade off, kurang tepat jika memilih salah satunya saja. Ketika recall sangat tinggi, precision bisa jadi sangat rendah, begitupun sebaliknya."
   ]
  },
  {
   "cell_type": "markdown",
   "id": "beb65d0c-2064-4329-8b24-dc79d089f3c9",
   "metadata": {},
   "source": [
    "# Features Importance"
   ]
  },
  {
   "cell_type": "code",
   "execution_count": 127,
   "id": "0f882d85-3dc7-4d11-8ceb-cd2c6c163cb6",
   "metadata": {},
   "outputs": [
    {
     "data": {
      "image/png": "[encoded data removed]",
      "text/plain": [
       "<Figure size 432x288 with 1 Axes>"
      ]
     },
     "metadata": {
      "needs_background": "light"
     },
     "output_type": "display_data"
    }
   ],
   "source": [
    "importances= gs_rf_best.feature_importances_\n",
    "feature_importances= pd.Series(importances, index=xtrain.columns).sort_values(ascending=False)\n",
    "sns.barplot(x=feature_importances[0:10], y=feature_importances.index[0:10], palette=\"rocket\")\n",
    "sns.despine()\n",
    "plt.xlabel(\"Feature Importances\")\n",
    "plt.ylabel(\"Features\")\n",
    "plt.show()"
   ]
  },
  {
   "cell_type": "markdown",
   "id": "8011ce49-050f-4fc7-942b-ff130df921b4",
   "metadata": {},
   "source": [
    "# Conclusion & Recommedation"
   ]
  },
  {
   "cell_type": "markdown",
   "id": "85e709cd-eb3c-44f1-9f28-dd936e5fcd5f",
   "metadata": {},
   "source": [
    "1. Model yang bisa diterapkan untuk memprediksi dilakukan atau tidaknya deposit oleh customer adalah model Random Forest\n",
    "2. Berdasarkan hasil EDA, dapat disarankan bank melakukan campaign ke customer pada bulan-bulan mei, agustus & juli. Hal ini dikarenakan pada bulan-bulan tersebut customer banyak merespons terkait campaign terakhir. Dan sebaliknya, bank menghindari bulan september, maret & desember dalma melakukan campaign karena pada bulan tersebut respon customer terhadap campaign sangat sedikit.\n",
    "3. Bank disarankan untuk tidak mengontak customer terlalu banyak terkait campaign, karena semakin banyak kontak yang dilakukan terhadap customer semakin kecil kemungkinan customer melakukan deposit. Hal ini terlihat pada correlation matrix pada bagian EDA\n",
    "4. Range usia terbanyak dari customer bank adalah 26-50 thn , disarankan bank dapat melakukan campaign yang lebih mengikuti lifestyle dari customer dengan range tersebut\n",
    "3. Berdasarkan feature importance dari model random forest, dapat kita lihat bahwa variabel yang paling berpengaruh adalah balance, age, campaign & pday"
   ]
  },
  {
   "cell_type": "code",
   "execution_count": 130,
   "id": "11868e36-52ae-477a-b0f2-e54e17720fce",
   "metadata": {},
   "outputs": [],
   "source": [
    "# Import pickle\n",
    "gs_rf.best_estimator_.fit(xtrain,ytrain) # FINAL MODEL\n",
    "filename = 'Model Final.sav'\n",
    "pickle.dump(gs_rf.best_estimator_,open(filename,'wb'))"
   ]
  },
  {
   "cell_type": "markdown",
   "id": "ae3f5248-14f1-4260-b439-a131883624c0",
   "metadata": {},
   "source": [
    "# THANKYOU"
   ]
  }
 ],
 "metadata": {
  "kernelspec": {
   "display_name": "Python 3 (ipykernel)",
   "language": "python",
   "name": "python3"
  },
  "language_info": {
   "codemirror_mode": {
    "name": "ipython",
    "version": 3
   },
   "file_extension": ".py",
   "mimetype": "text/x-python",
   "name": "python",
   "nbconvert_exporter": "python",
   "pygments_lexer": "ipython3",
   "version": "3.10.1"
  }
 },
 "nbformat": 4,
 "nbformat_minor": 5
}
